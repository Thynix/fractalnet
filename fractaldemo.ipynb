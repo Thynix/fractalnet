{
 "metadata": {
  "name": "",
  "signature": "sha256:2849fcb6d2d7af5d06151ba9f11bf40961da3deb43bd9db13880ca37e45fd5e4"
 },
 "nbformat": 3,
 "nbformat_minor": 0,
 "worksheets": [
  {
   "cells": [
    {
     "cell_type": "markdown",
     "metadata": {},
     "source": [
      "#Fractal Lattice Simulation\n",
      "This is a walkthrough of a simulation that demonstrates a potential countermeasure to pitch-black style attacks on F2F networks. It's important to run this code in order if you decide to run it yourself."
     ]
    },
    {
     "cell_type": "code",
     "collapsed": false,
     "input": [
      "import pynetsim\n",
      "import networkx\n",
      "import pylab\n",
      "import matplotlib.pyplot as plt\n",
      "\n",
      "#Create a traditional small world network\n",
      "a = networkx.navigable_small_world_graph(1000, 4, 2, 1, 1).to_undirected()\n",
      "#Randomize the locations of the nodes in the network\n",
      "pynetsim.randomize(a)\n"
     ],
     "language": "python",
     "metadata": {},
     "outputs": [],
     "prompt_number": 21
    },
    {
     "cell_type": "markdown",
     "metadata": {},
     "source": [
      "We now want to create a small world topology with respect to fractal iteration distance.\n",
      "This will take a while!\n",
      "Let's now organize the network based on our inverse cantor set. We should do this about 2000 times:"
     ]
    },
    {
     "cell_type": "code",
     "collapsed": false,
     "input": [
      "i = 0\n",
      "while i < 2000:\n",
      "        if i % 100 == 0:\n",
      "            print str(i) + \" of 2000 iterations complete\"\n",
      "        pynetsim.fswapiteration(a)\n",
      "        i += 1\n"
     ],
     "language": "python",
     "metadata": {},
     "outputs": [
      {
       "output_type": "stream",
       "stream": "stdout",
       "text": [
        "0 of 2000 iterations complete\n",
        "100 of 2000 iterations complete"
       ]
      },
      {
       "output_type": "stream",
       "stream": "stdout",
       "text": [
        "\n",
        "200 of 2000 iterations complete"
       ]
      },
      {
       "output_type": "stream",
       "stream": "stdout",
       "text": [
        "\n",
        "300 of 2000 iterations complete"
       ]
      },
      {
       "output_type": "stream",
       "stream": "stdout",
       "text": [
        "\n",
        "400 of 2000 iterations complete"
       ]
      },
      {
       "output_type": "stream",
       "stream": "stdout",
       "text": [
        "\n",
        "500 of 2000 iterations complete"
       ]
      },
      {
       "output_type": "stream",
       "stream": "stdout",
       "text": [
        "\n",
        "600 of 2000 iterations complete"
       ]
      },
      {
       "output_type": "stream",
       "stream": "stdout",
       "text": [
        "\n",
        "700 of 2000 iterations complete"
       ]
      },
      {
       "output_type": "stream",
       "stream": "stdout",
       "text": [
        "\n",
        "800 of 2000 iterations complete"
       ]
      },
      {
       "output_type": "stream",
       "stream": "stdout",
       "text": [
        "\n",
        "900 of 2000 iterations complete"
       ]
      },
      {
       "output_type": "stream",
       "stream": "stdout",
       "text": [
        "\n",
        "1000 of 2000 iterations complete"
       ]
      },
      {
       "output_type": "stream",
       "stream": "stdout",
       "text": [
        "\n",
        "1100 of 2000 iterations complete"
       ]
      },
      {
       "output_type": "stream",
       "stream": "stdout",
       "text": [
        "\n",
        "1200 of 2000 iterations complete"
       ]
      },
      {
       "output_type": "stream",
       "stream": "stdout",
       "text": [
        "\n",
        "1300 of 2000 iterations complete"
       ]
      },
      {
       "output_type": "stream",
       "stream": "stdout",
       "text": [
        "\n",
        "1400 of 2000 iterations complete"
       ]
      },
      {
       "output_type": "stream",
       "stream": "stdout",
       "text": [
        "\n",
        "1500 of 2000 iterations complete"
       ]
      },
      {
       "output_type": "stream",
       "stream": "stdout",
       "text": [
        "\n",
        "1600 of 2000 iterations complete"
       ]
      },
      {
       "output_type": "stream",
       "stream": "stdout",
       "text": [
        "\n",
        "1700 of 2000 iterations complete"
       ]
      },
      {
       "output_type": "stream",
       "stream": "stdout",
       "text": [
        "\n",
        "1800 of 2000 iterations complete"
       ]
      },
      {
       "output_type": "stream",
       "stream": "stdout",
       "text": [
        "\n",
        "1900 of 2000 iterations complete"
       ]
      },
      {
       "output_type": "stream",
       "stream": "stdout",
       "text": [
        "\n"
       ]
      }
     ],
     "prompt_number": 22
    },
    {
     "cell_type": "code",
     "collapsed": false,
     "input": [
      "lengths = list()\n",
      "for n in a.edges():\n",
      "        lengths.append(pynetsim.fdistance(n[0], n[1]))\n"
     ],
     "language": "python",
     "metadata": {},
     "outputs": [],
     "prompt_number": 25
    },
    {
     "cell_type": "markdown",
     "metadata": {},
     "source": [
      "Now we can check the link length distribution. Small world networks have a majority of short distance connections with a long tail of link lengths to even out this distribution. This resembles a decaying exponential. We can now look at our own link lengths to verify:"
     ]
    },
    {
     "cell_type": "code",
     "collapsed": false,
     "input": [
      "%matplotlib inline\n",
      "plt.xlabel('Fractal generation link distance')\n",
      "plt.ylabel('Number of connections')\n",
      "plt.hist(lengths, 10)"
     ],
     "language": "python",
     "metadata": {},
     "outputs": [
      {
       "metadata": {},
       "output_type": "pyout",
       "prompt_number": 34,
       "text": [
        "(array([ 2639.,  1592.,   388.,   348.,    99.,    86.,    70.,    23.,\n",
        "           40.,    30.]),\n",
        " array([  0. ,   1.6,   3.2,   4.8,   6.4,   8. ,   9.6,  11.2,  12.8,\n",
        "         14.4,  16. ]),\n",
        " <a list of 10 Patch objects>)"
       ]
      },
      {
       "metadata": {},
       "output_type": "display_data",
       "png": "[encoded data removed]",
       "text": [
        "<matplotlib.figure.Figure at 0x7fc74142d350>"
       ]
      }
     ],
     "prompt_number": 34
    },
    {
     "cell_type": "markdown",
     "metadata": {},
     "source": [
      "Looks like we're on the right track."
     ]
    },
    {
     "cell_type": "code",
     "collapsed": false,
     "input": [],
     "language": "python",
     "metadata": {},
     "outputs": []
    }
   ],
   "metadata": {}
  }
 ]
}